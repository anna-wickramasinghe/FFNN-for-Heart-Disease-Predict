{
 "cells": [
  {
   "cell_type": "code",
   "execution_count": 117,
   "id": "dc6302f4",
   "metadata": {},
   "outputs": [],
   "source": [
    "import pandas as pd\n",
    "import numpy as np\n",
    "from matplotlib import pyplot as plt\n",
    "\n",
    "from keras.models import Sequential\n",
    "from keras.layers import Dense\n",
    "from keras.layers import Dropout"
   ]
  },
  {
   "cell_type": "code",
   "execution_count": 118,
   "id": "e6fe17a8",
   "metadata": {},
   "outputs": [
    {
     "data": {
      "text/html": [
       "<div>\n",
       "<style scoped>\n",
       "    .dataframe tbody tr th:only-of-type {\n",
       "        vertical-align: middle;\n",
       "    }\n",
       "\n",
       "    .dataframe tbody tr th {\n",
       "        vertical-align: top;\n",
       "    }\n",
       "\n",
       "    .dataframe thead th {\n",
       "        text-align: right;\n",
       "    }\n",
       "</style>\n",
       "<table border=\"1\" class=\"dataframe\">\n",
       "  <thead>\n",
       "    <tr style=\"text-align: right;\">\n",
       "      <th></th>\n",
       "      <th>SEX</th>\n",
       "      <th>AGEIR</th>\n",
       "      <th>TC</th>\n",
       "      <th>HDL</th>\n",
       "      <th>SMOKE_</th>\n",
       "      <th>BPMED</th>\n",
       "      <th>DIAB_01</th>\n",
       "      <th>RISK</th>\n",
       "    </tr>\n",
       "  </thead>\n",
       "  <tbody>\n",
       "    <tr>\n",
       "      <th>0</th>\n",
       "      <td>1</td>\n",
       "      <td>48</td>\n",
       "      <td>236</td>\n",
       "      <td>66</td>\n",
       "      <td>0</td>\n",
       "      <td>1</td>\n",
       "      <td>0</td>\n",
       "      <td>1.1</td>\n",
       "    </tr>\n",
       "    <tr>\n",
       "      <th>1</th>\n",
       "      <td>0</td>\n",
       "      <td>48</td>\n",
       "      <td>260</td>\n",
       "      <td>51</td>\n",
       "      <td>0</td>\n",
       "      <td>1</td>\n",
       "      <td>1</td>\n",
       "      <td>7.0</td>\n",
       "    </tr>\n",
       "    <tr>\n",
       "      <th>2</th>\n",
       "      <td>0</td>\n",
       "      <td>44</td>\n",
       "      <td>187</td>\n",
       "      <td>49</td>\n",
       "      <td>1</td>\n",
       "      <td>1</td>\n",
       "      <td>0</td>\n",
       "      <td>7.0</td>\n",
       "    </tr>\n",
       "    <tr>\n",
       "      <th>3</th>\n",
       "      <td>1</td>\n",
       "      <td>42</td>\n",
       "      <td>216</td>\n",
       "      <td>57</td>\n",
       "      <td>1</td>\n",
       "      <td>1</td>\n",
       "      <td>0</td>\n",
       "      <td>0.4</td>\n",
       "    </tr>\n",
       "    <tr>\n",
       "      <th>4</th>\n",
       "      <td>1</td>\n",
       "      <td>56</td>\n",
       "      <td>156</td>\n",
       "      <td>42</td>\n",
       "      <td>0</td>\n",
       "      <td>1</td>\n",
       "      <td>0</td>\n",
       "      <td>2.2</td>\n",
       "    </tr>\n",
       "    <tr>\n",
       "      <th>...</th>\n",
       "      <td>...</td>\n",
       "      <td>...</td>\n",
       "      <td>...</td>\n",
       "      <td>...</td>\n",
       "      <td>...</td>\n",
       "      <td>...</td>\n",
       "      <td>...</td>\n",
       "      <td>...</td>\n",
       "    </tr>\n",
       "    <tr>\n",
       "      <th>6639</th>\n",
       "      <td>1</td>\n",
       "      <td>65</td>\n",
       "      <td>307</td>\n",
       "      <td>42</td>\n",
       "      <td>1</td>\n",
       "      <td>0</td>\n",
       "      <td>1</td>\n",
       "      <td>36.6</td>\n",
       "    </tr>\n",
       "    <tr>\n",
       "      <th>6640</th>\n",
       "      <td>1</td>\n",
       "      <td>42</td>\n",
       "      <td>169</td>\n",
       "      <td>56</td>\n",
       "      <td>0</td>\n",
       "      <td>0</td>\n",
       "      <td>0</td>\n",
       "      <td>0.8</td>\n",
       "    </tr>\n",
       "    <tr>\n",
       "      <th>6641</th>\n",
       "      <td>0</td>\n",
       "      <td>65</td>\n",
       "      <td>212</td>\n",
       "      <td>35</td>\n",
       "      <td>1</td>\n",
       "      <td>0</td>\n",
       "      <td>0</td>\n",
       "      <td>30.6</td>\n",
       "    </tr>\n",
       "    <tr>\n",
       "      <th>6642</th>\n",
       "      <td>0</td>\n",
       "      <td>66</td>\n",
       "      <td>184</td>\n",
       "      <td>39</td>\n",
       "      <td>0</td>\n",
       "      <td>0</td>\n",
       "      <td>0</td>\n",
       "      <td>23.8</td>\n",
       "    </tr>\n",
       "    <tr>\n",
       "      <th>6643</th>\n",
       "      <td>1</td>\n",
       "      <td>45</td>\n",
       "      <td>203</td>\n",
       "      <td>51</td>\n",
       "      <td>0</td>\n",
       "      <td>1</td>\n",
       "      <td>0</td>\n",
       "      <td>1.0</td>\n",
       "    </tr>\n",
       "  </tbody>\n",
       "</table>\n",
       "<p>6644 rows × 8 columns</p>\n",
       "</div>"
      ],
      "text/plain": [
       "      SEX  AGEIR   TC  HDL  SMOKE_  BPMED  DIAB_01  RISK\n",
       "0       1     48  236   66       0      1        0   1.1\n",
       "1       0     48  260   51       0      1        1   7.0\n",
       "2       0     44  187   49       1      1        0   7.0\n",
       "3       1     42  216   57       1      1        0   0.4\n",
       "4       1     56  156   42       0      1        0   2.2\n",
       "...   ...    ...  ...  ...     ...    ...      ...   ...\n",
       "6639    1     65  307   42       1      0        1  36.6\n",
       "6640    1     42  169   56       0      0        0   0.8\n",
       "6641    0     65  212   35       1      0        0  30.6\n",
       "6642    0     66  184   39       0      0        0  23.8\n",
       "6643    1     45  203   51       0      1        0   1.0\n",
       "\n",
       "[6644 rows x 8 columns]"
      ]
     },
     "execution_count": 118,
     "metadata": {},
     "output_type": "execute_result"
    }
   ],
   "source": [
    "df = pd.read_csv(r'E:\\DL\\heart risk level prediction with linear regression\\cardio_dataset.csv')\n",
    "df"
   ]
  },
  {
   "cell_type": "code",
   "execution_count": 119,
   "id": "2e860634",
   "metadata": {},
   "outputs": [
    {
     "data": {
      "text/plain": [
       "array([[  1.,  48., 236., ...,   0.,   1.,   0.],\n",
       "       [  0.,  48., 260., ...,   0.,   1.,   1.],\n",
       "       [  0.,  44., 187., ...,   1.,   1.,   0.],\n",
       "       ...,\n",
       "       [  0.,  65., 212., ...,   1.,   0.,   0.],\n",
       "       [  0.,  66., 184., ...,   0.,   0.,   0.],\n",
       "       [  1.,  45., 203., ...,   0.,   1.,   0.]])"
      ]
     },
     "execution_count": 119,
     "metadata": {},
     "output_type": "execute_result"
    }
   ],
   "source": [
    "dataset = df.values\n",
    "data = dataset[:,0:7]\n",
    "data"
   ]
  },
  {
   "cell_type": "code",
   "execution_count": 120,
   "id": "5491697c",
   "metadata": {},
   "outputs": [
    {
     "data": {
      "text/plain": [
       "array([ 1.1,  7. ,  7. , ..., 30.6, 23.8,  1. ])"
      ]
     },
     "execution_count": 120,
     "metadata": {},
     "output_type": "execute_result"
    }
   ],
   "source": [
    "target = dataset[:,7]\n",
    "target"
   ]
  },
  {
   "cell_type": "code",
   "execution_count": 121,
   "id": "465f4d9b",
   "metadata": {},
   "outputs": [
    {
     "name": "stdout",
     "output_type": "stream",
     "text": [
      "(6644, 1)\n",
      "[[ 1.1]\n",
      " [ 7. ]\n",
      " [ 7. ]\n",
      " ...\n",
      " [30.6]\n",
      " [23.8]\n",
      " [ 1. ]]\n"
     ]
    }
   ],
   "source": [
    "target = np.reshape(target, (-1,1))\n",
    "print(target.shape)\n",
    "print(target)"
   ]
  },
  {
   "cell_type": "markdown",
   "id": "fa327d0e",
   "metadata": {},
   "source": [
    "# scaling"
   ]
  },
  {
   "cell_type": "code",
   "execution_count": 122,
   "id": "7df7d2b4",
   "metadata": {},
   "outputs": [],
   "source": [
    "from sklearn.preprocessing import MinMaxScaler\n",
    "\n",
    "scaler_data = MinMaxScaler()\n",
    "scaler_target = MinMaxScaler()\n",
    "\n",
    "data_scaled = scaler_data.fit_transform(data)\n",
    "target_scaled = scaler_target.fit_transform(target)"
   ]
  },
  {
   "cell_type": "markdown",
   "id": "ea3cc090",
   "metadata": {},
   "source": [
    "# building model"
   ]
  },
  {
   "cell_type": "code",
   "execution_count": 131,
   "id": "c206d9eb",
   "metadata": {},
   "outputs": [
    {
     "name": "stdout",
     "output_type": "stream",
     "text": [
      "Model: \"sequential_11\"\n",
      "_________________________________________________________________\n",
      " Layer (type)                Output Shape              Param #   \n",
      "=================================================================\n",
      " dense_42 (Dense)            (None, 128)               1024      \n",
      "                                                                 \n",
      " dense_43 (Dense)            (None, 64)                8256      \n",
      "                                                                 \n",
      " dropout_14 (Dropout)        (None, 64)                0         \n",
      "                                                                 \n",
      " dense_44 (Dense)            (None, 10)                650       \n",
      "                                                                 \n",
      " dropout_15 (Dropout)        (None, 10)                0         \n",
      "                                                                 \n",
      " dense_45 (Dense)            (None, 1)                 11        \n",
      "                                                                 \n",
      "=================================================================\n",
      "Total params: 9,941\n",
      "Trainable params: 9,941\n",
      "Non-trainable params: 0\n",
      "_________________________________________________________________\n"
     ]
    }
   ],
   "source": [
    "model = Sequential()\n",
    "model.add(Dense(128, input_dim=7, activation='tanh'))\n",
    "model.add(Dense(64, activation='tanh'))\n",
    "model.add(Dropout(0.15))\n",
    "model.add(Dense(10, activation='relu'))\n",
    "model.add(Dropout(0.25))\n",
    "model.add(Dense(1, activation='linear'))\n",
    "\n",
    "model.compile(optimizer='adam', loss='mse', metrics=['mse'])\n",
    "\n",
    "model.summary()"
   ]
  },
  {
   "cell_type": "code",
   "execution_count": 132,
   "id": "19ea2a55",
   "metadata": {},
   "outputs": [],
   "source": [
    "from keras.callbacks import ModelCheckpoint\n",
    "checkpoint_path = \"C:/Users/WickyLee/flask_intro/Heart_disease_prediction/models/model-{epoch:03d}.model\"\n",
    "\n",
    "checkpoint = ModelCheckpoint(checkpoint_path, monitor='val_loss',save_best_only=True,mode='auto')"
   ]
  },
  {
   "cell_type": "markdown",
   "id": "ede7da28",
   "metadata": {},
   "source": [
    "# test train split and trainning"
   ]
  },
  {
   "cell_type": "code",
   "execution_count": 133,
   "id": "53f2c14d",
   "metadata": {},
   "outputs": [
    {
     "name": "stdout",
     "output_type": "stream",
     "text": [
      "Epoch 1/190\n",
      "163/167 [============================>.] - ETA: 0s - loss: 0.0111 - mse: 0.0111"
     ]
    },
    {
     "name": "stderr",
     "output_type": "stream",
     "text": [
      "WARNING:absl:Found untraced functions such as _update_step_xla while saving (showing 1 of 1). These functions will not be directly callable after loading.\n"
     ]
    },
    {
     "name": "stdout",
     "output_type": "stream",
     "text": [
      "INFO:tensorflow:Assets written to: C:/Users/WickyLee/flask_intro/Heart_disease_prediction/models\\model-001.model\\assets\n"
     ]
    },
    {
     "name": "stderr",
     "output_type": "stream",
     "text": [
      "INFO:tensorflow:Assets written to: C:/Users/WickyLee/flask_intro/Heart_disease_prediction/models\\model-001.model\\assets\n"
     ]
    },
    {
     "name": "stdout",
     "output_type": "stream",
     "text": [
      "167/167 [==============================] - 15s 56ms/step - loss: 0.0111 - mse: 0.0111 - val_loss: 0.0050 - val_mse: 0.0050\n",
      "Epoch 2/190\n",
      "167/167 [==============================] - 2s 12ms/step - loss: 0.0082 - mse: 0.0082 - val_loss: 0.0051 - val_mse: 0.0051\n",
      "Epoch 3/190\n",
      "167/167 [==============================] - 2s 11ms/step - loss: 0.0067 - mse: 0.0067 - val_loss: 0.0056 - val_mse: 0.0056\n",
      "Epoch 4/190\n",
      "166/167 [============================>.] - ETA: 0s - loss: 0.0067 - mse: 0.0067"
     ]
    },
    {
     "name": "stderr",
     "output_type": "stream",
     "text": [
      "WARNING:absl:Found untraced functions such as _update_step_xla while saving (showing 1 of 1). These functions will not be directly callable after loading.\n"
     ]
    },
    {
     "name": "stdout",
     "output_type": "stream",
     "text": [
      "INFO:tensorflow:Assets written to: C:/Users/WickyLee/flask_intro/Heart_disease_prediction/models\\model-004.model\\assets\n"
     ]
    },
    {
     "name": "stderr",
     "output_type": "stream",
     "text": [
      "INFO:tensorflow:Assets written to: C:/Users/WickyLee/flask_intro/Heart_disease_prediction/models\\model-004.model\\assets\n"
     ]
    },
    {
     "name": "stdout",
     "output_type": "stream",
     "text": [
      "167/167 [==============================] - 8s 49ms/step - loss: 0.0067 - mse: 0.0067 - val_loss: 0.0039 - val_mse: 0.0039\n",
      "Epoch 5/190\n",
      "162/167 [============================>.] - ETA: 0s - loss: 0.0068 - mse: 0.0068"
     ]
    },
    {
     "name": "stderr",
     "output_type": "stream",
     "text": [
      "WARNING:absl:Found untraced functions such as _update_step_xla while saving (showing 1 of 1). These functions will not be directly callable after loading.\n"
     ]
    },
    {
     "name": "stdout",
     "output_type": "stream",
     "text": [
      "INFO:tensorflow:Assets written to: C:/Users/WickyLee/flask_intro/Heart_disease_prediction/models\\model-005.model\\assets\n"
     ]
    },
    {
     "name": "stderr",
     "output_type": "stream",
     "text": [
      "INFO:tensorflow:Assets written to: C:/Users/WickyLee/flask_intro/Heart_disease_prediction/models\\model-005.model\\assets\n"
     ]
    },
    {
     "name": "stdout",
     "output_type": "stream",
     "text": [
      "167/167 [==============================] - 7s 44ms/step - loss: 0.0067 - mse: 0.0067 - val_loss: 0.0037 - val_mse: 0.0037\n",
      "Epoch 6/190\n",
      "167/167 [==============================] - 2s 13ms/step - loss: 0.0063 - mse: 0.0063 - val_loss: 0.0039 - val_mse: 0.0039\n",
      "Epoch 7/190\n",
      "167/167 [==============================] - 2s 12ms/step - loss: 0.0067 - mse: 0.0067 - val_loss: 0.0040 - val_mse: 0.0040\n",
      "Epoch 8/190\n",
      "167/167 [==============================] - 2s 12ms/step - loss: 0.0061 - mse: 0.0061 - val_loss: 0.0042 - val_mse: 0.0042\n",
      "Epoch 9/190\n",
      "167/167 [==============================] - 2s 13ms/step - loss: 0.0062 - mse: 0.0062 - val_loss: 0.0038 - val_mse: 0.0038\n",
      "Epoch 10/190\n",
      "167/167 [==============================] - 2s 11ms/step - loss: 0.0063 - mse: 0.0063 - val_loss: 0.0041 - val_mse: 0.0041\n",
      "Epoch 11/190\n",
      "167/167 [==============================] - 2s 11ms/step - loss: 0.0060 - mse: 0.0060 - val_loss: 0.0038 - val_mse: 0.0038\n",
      "Epoch 12/190\n",
      "167/167 [==============================] - 2s 11ms/step - loss: 0.0062 - mse: 0.0062 - val_loss: 0.0040 - val_mse: 0.0040\n",
      "Epoch 13/190\n",
      "167/167 [==============================] - 2s 11ms/step - loss: 0.0062 - mse: 0.0062 - val_loss: 0.0039 - val_mse: 0.0039\n",
      "Epoch 14/190\n",
      "166/167 [============================>.] - ETA: 0s - loss: 0.0058 - mse: 0.0058"
     ]
    },
    {
     "name": "stderr",
     "output_type": "stream",
     "text": [
      "WARNING:absl:Found untraced functions such as _update_step_xla while saving (showing 1 of 1). These functions will not be directly callable after loading.\n"
     ]
    },
    {
     "name": "stdout",
     "output_type": "stream",
     "text": [
      "INFO:tensorflow:Assets written to: C:/Users/WickyLee/flask_intro/Heart_disease_prediction/models\\model-014.model\\assets\n"
     ]
    },
    {
     "name": "stderr",
     "output_type": "stream",
     "text": [
      "INFO:tensorflow:Assets written to: C:/Users/WickyLee/flask_intro/Heart_disease_prediction/models\\model-014.model\\assets\n"
     ]
    },
    {
     "name": "stdout",
     "output_type": "stream",
     "text": [
      "167/167 [==============================] - 6s 36ms/step - loss: 0.0058 - mse: 0.0058 - val_loss: 0.0036 - val_mse: 0.0036\n",
      "Epoch 15/190\n",
      "167/167 [==============================] - 2s 12ms/step - loss: 0.0057 - mse: 0.0057 - val_loss: 0.0036 - val_mse: 0.0036\n",
      "Epoch 16/190\n",
      "164/167 [============================>.] - ETA: 0s - loss: 0.0059 - mse: 0.0059"
     ]
    },
    {
     "name": "stderr",
     "output_type": "stream",
     "text": [
      "WARNING:absl:Found untraced functions such as _update_step_xla while saving (showing 1 of 1). These functions will not be directly callable after loading.\n"
     ]
    },
    {
     "name": "stdout",
     "output_type": "stream",
     "text": [
      "INFO:tensorflow:Assets written to: C:/Users/WickyLee/flask_intro/Heart_disease_prediction/models\\model-016.model\\assets\n"
     ]
    },
    {
     "name": "stderr",
     "output_type": "stream",
     "text": [
      "INFO:tensorflow:Assets written to: C:/Users/WickyLee/flask_intro/Heart_disease_prediction/models\\model-016.model\\assets\n"
     ]
    },
    {
     "name": "stdout",
     "output_type": "stream",
     "text": [
      "167/167 [==============================] - 6s 37ms/step - loss: 0.0059 - mse: 0.0059 - val_loss: 0.0035 - val_mse: 0.0035\n",
      "Epoch 17/190\n",
      "167/167 [==============================] - 2s 12ms/step - loss: 0.0056 - mse: 0.0056 - val_loss: 0.0036 - val_mse: 0.0036\n",
      "Epoch 18/190\n",
      "167/167 [==============================] - 2s 10ms/step - loss: 0.0056 - mse: 0.0056 - val_loss: 0.0038 - val_mse: 0.0038\n",
      "Epoch 19/190\n",
      "167/167 [==============================] - 2s 11ms/step - loss: 0.0059 - mse: 0.0059 - val_loss: 0.0043 - val_mse: 0.0043\n",
      "Epoch 20/190\n",
      "167/167 [==============================] - 2s 10ms/step - loss: 0.0058 - mse: 0.0058 - val_loss: 0.0037 - val_mse: 0.0037\n",
      "Epoch 21/190\n",
      "167/167 [==============================] - 2s 10ms/step - loss: 0.0056 - mse: 0.0056 - val_loss: 0.0037 - val_mse: 0.0037\n",
      "Epoch 22/190\n",
      "167/167 [==============================] - 2s 12ms/step - loss: 0.0055 - mse: 0.0055 - val_loss: 0.0035 - val_mse: 0.0035\n",
      "Epoch 23/190\n",
      "167/167 [==============================] - 2s 12ms/step - loss: 0.0055 - mse: 0.0055 - val_loss: 0.0039 - val_mse: 0.0039\n",
      "Epoch 24/190\n",
      "167/167 [==============================] - 2s 11ms/step - loss: 0.0054 - mse: 0.0054 - val_loss: 0.0036 - val_mse: 0.0036\n",
      "Epoch 25/190\n",
      "167/167 [==============================] - 2s 11ms/step - loss: 0.0056 - mse: 0.0056 - val_loss: 0.0038 - val_mse: 0.0038\n",
      "Epoch 26/190\n",
      "167/167 [==============================] - 2s 12ms/step - loss: 0.0055 - mse: 0.0055 - val_loss: 0.0035 - val_mse: 0.0035\n",
      "Epoch 27/190\n",
      "167/167 [==============================] - 2s 11ms/step - loss: 0.0053 - mse: 0.0053 - val_loss: 0.0037 - val_mse: 0.0037\n",
      "Epoch 28/190\n",
      "166/167 [============================>.] - ETA: 0s - loss: 0.0054 - mse: 0.0054"
     ]
    },
    {
     "name": "stderr",
     "output_type": "stream",
     "text": [
      "WARNING:absl:Found untraced functions such as _update_step_xla while saving (showing 1 of 1). These functions will not be directly callable after loading.\n"
     ]
    },
    {
     "name": "stdout",
     "output_type": "stream",
     "text": [
      "INFO:tensorflow:Assets written to: C:/Users/WickyLee/flask_intro/Heart_disease_prediction/models\\model-028.model\\assets\n"
     ]
    },
    {
     "name": "stderr",
     "output_type": "stream",
     "text": [
      "INFO:tensorflow:Assets written to: C:/Users/WickyLee/flask_intro/Heart_disease_prediction/models\\model-028.model\\assets\n"
     ]
    },
    {
     "name": "stdout",
     "output_type": "stream",
     "text": [
      "167/167 [==============================] - 6s 39ms/step - loss: 0.0054 - mse: 0.0054 - val_loss: 0.0034 - val_mse: 0.0034\n",
      "Epoch 29/190\n",
      "167/167 [==============================] - 2s 14ms/step - loss: 0.0054 - mse: 0.0054 - val_loss: 0.0034 - val_mse: 0.0034\n",
      "Epoch 30/190\n",
      "167/167 [==============================] - 2s 12ms/step - loss: 0.0053 - mse: 0.0053 - val_loss: 0.0037 - val_mse: 0.0037\n",
      "Epoch 31/190\n",
      "167/167 [==============================] - 2s 13ms/step - loss: 0.0055 - mse: 0.0055 - val_loss: 0.0035 - val_mse: 0.0035\n",
      "Epoch 32/190\n",
      "167/167 [==============================] - 2s 12ms/step - loss: 0.0054 - mse: 0.0054 - val_loss: 0.0037 - val_mse: 0.0037\n",
      "Epoch 33/190\n",
      "167/167 [==============================] - 2s 12ms/step - loss: 0.0054 - mse: 0.0054 - val_loss: 0.0035 - val_mse: 0.0035\n",
      "Epoch 34/190\n",
      "167/167 [==============================] - 2s 14ms/step - loss: 0.0053 - mse: 0.0053 - val_loss: 0.0035 - val_mse: 0.0035\n",
      "Epoch 35/190\n",
      "167/167 [==============================] - 2s 11ms/step - loss: 0.0054 - mse: 0.0054 - val_loss: 0.0035 - val_mse: 0.0035\n",
      "Epoch 36/190\n",
      "167/167 [==============================] - 2s 11ms/step - loss: 0.0054 - mse: 0.0054 - val_loss: 0.0037 - val_mse: 0.0037\n",
      "Epoch 37/190\n",
      "167/167 [==============================] - 2s 11ms/step - loss: 0.0055 - mse: 0.0055 - val_loss: 0.0034 - val_mse: 0.0034\n",
      "Epoch 38/190\n",
      "167/167 [==============================] - 2s 11ms/step - loss: 0.0051 - mse: 0.0051 - val_loss: 0.0034 - val_mse: 0.0034\n",
      "Epoch 39/190\n",
      "167/167 [==============================] - 2s 11ms/step - loss: 0.0052 - mse: 0.0052 - val_loss: 0.0035 - val_mse: 0.0035\n",
      "Epoch 40/190\n",
      "167/167 [==============================] - 2s 12ms/step - loss: 0.0053 - mse: 0.0053 - val_loss: 0.0040 - val_mse: 0.0040\n",
      "Epoch 41/190\n",
      "167/167 [==============================] - 2s 11ms/step - loss: 0.0056 - mse: 0.0056 - val_loss: 0.0035 - val_mse: 0.0035\n",
      "Epoch 42/190\n",
      "167/167 [==============================] - 2s 11ms/step - loss: 0.0054 - mse: 0.0054 - val_loss: 0.0036 - val_mse: 0.0036\n",
      "Epoch 43/190\n",
      "167/167 [==============================] - 2s 11ms/step - loss: 0.0051 - mse: 0.0051 - val_loss: 0.0035 - val_mse: 0.0035\n",
      "Epoch 44/190\n",
      "167/167 [==============================] - 2s 12ms/step - loss: 0.0054 - mse: 0.0054 - val_loss: 0.0044 - val_mse: 0.0044\n",
      "Epoch 45/190\n",
      "167/167 [==============================] - 2s 11ms/step - loss: 0.0052 - mse: 0.0052 - val_loss: 0.0034 - val_mse: 0.0034\n",
      "Epoch 46/190\n",
      "166/167 [============================>.] - ETA: 0s - loss: 0.0053 - mse: 0.0053"
     ]
    },
    {
     "name": "stderr",
     "output_type": "stream",
     "text": [
      "WARNING:absl:Found untraced functions such as _update_step_xla while saving (showing 1 of 1). These functions will not be directly callable after loading.\n"
     ]
    },
    {
     "name": "stdout",
     "output_type": "stream",
     "text": [
      "INFO:tensorflow:Assets written to: C:/Users/WickyLee/flask_intro/Heart_disease_prediction/models\\model-046.model\\assets\n"
     ]
    },
    {
     "name": "stderr",
     "output_type": "stream",
     "text": [
      "INFO:tensorflow:Assets written to: C:/Users/WickyLee/flask_intro/Heart_disease_prediction/models\\model-046.model\\assets\n"
     ]
    },
    {
     "name": "stdout",
     "output_type": "stream",
     "text": [
      "167/167 [==============================] - 6s 37ms/step - loss: 0.0053 - mse: 0.0053 - val_loss: 0.0033 - val_mse: 0.0033\n",
      "Epoch 47/190\n",
      "167/167 [==============================] - 2s 12ms/step - loss: 0.0053 - mse: 0.0053 - val_loss: 0.0039 - val_mse: 0.0039\n",
      "Epoch 48/190\n",
      "167/167 [==============================] - 2s 11ms/step - loss: 0.0053 - mse: 0.0053 - val_loss: 0.0034 - val_mse: 0.0034\n",
      "Epoch 49/190\n",
      "167/167 [==============================] - 2s 11ms/step - loss: 0.0052 - mse: 0.0052 - val_loss: 0.0034 - val_mse: 0.0034\n",
      "Epoch 50/190\n",
      "167/167 [==============================] - 2s 10ms/step - loss: 0.0055 - mse: 0.0055 - val_loss: 0.0034 - val_mse: 0.0034\n",
      "Epoch 51/190\n",
      "167/167 [==============================] - 2s 10ms/step - loss: 0.0054 - mse: 0.0054 - val_loss: 0.0034 - val_mse: 0.0034\n",
      "Epoch 52/190\n",
      "167/167 [==============================] - 2s 10ms/step - loss: 0.0056 - mse: 0.0056 - val_loss: 0.0037 - val_mse: 0.0037\n",
      "Epoch 53/190\n",
      "167/167 [==============================] - 2s 11ms/step - loss: 0.0054 - mse: 0.0054 - val_loss: 0.0036 - val_mse: 0.0036\n",
      "Epoch 54/190\n",
      "167/167 [==============================] - 2s 12ms/step - loss: 0.0054 - mse: 0.0054 - val_loss: 0.0037 - val_mse: 0.0037\n",
      "Epoch 55/190\n",
      "167/167 [==============================] - 2s 13ms/step - loss: 0.0053 - mse: 0.0053 - val_loss: 0.0035 - val_mse: 0.0035\n",
      "Epoch 56/190\n",
      "167/167 [==============================] - 2s 13ms/step - loss: 0.0051 - mse: 0.0051 - val_loss: 0.0036 - val_mse: 0.0036\n",
      "Epoch 57/190\n",
      "167/167 [==============================] - 2s 12ms/step - loss: 0.0053 - mse: 0.0053 - val_loss: 0.0034 - val_mse: 0.0034\n",
      "Epoch 58/190\n",
      "167/167 [==============================] - 2s 12ms/step - loss: 0.0054 - mse: 0.0054 - val_loss: 0.0034 - val_mse: 0.0034\n",
      "Epoch 59/190\n",
      "162/167 [============================>.] - ETA: 0s - loss: 0.0051 - mse: 0.0051"
     ]
    },
    {
     "name": "stderr",
     "output_type": "stream",
     "text": [
      "WARNING:absl:Found untraced functions such as _update_step_xla while saving (showing 1 of 1). These functions will not be directly callable after loading.\n"
     ]
    },
    {
     "name": "stdout",
     "output_type": "stream",
     "text": [
      "INFO:tensorflow:Assets written to: C:/Users/WickyLee/flask_intro/Heart_disease_prediction/models\\model-059.model\\assets\n"
     ]
    },
    {
     "name": "stderr",
     "output_type": "stream",
     "text": [
      "INFO:tensorflow:Assets written to: C:/Users/WickyLee/flask_intro/Heart_disease_prediction/models\\model-059.model\\assets\n"
     ]
    },
    {
     "name": "stdout",
     "output_type": "stream",
     "text": [
      "167/167 [==============================] - 7s 41ms/step - loss: 0.0051 - mse: 0.0051 - val_loss: 0.0032 - val_mse: 0.0032\n",
      "Epoch 60/190\n",
      "167/167 [==============================] - 2s 12ms/step - loss: 0.0051 - mse: 0.0051 - val_loss: 0.0033 - val_mse: 0.0033\n",
      "Epoch 61/190\n",
      "167/167 [==============================] - 2s 10ms/step - loss: 0.0053 - mse: 0.0053 - val_loss: 0.0035 - val_mse: 0.0035\n",
      "Epoch 62/190\n",
      "167/167 [==============================] - 2s 11ms/step - loss: 0.0054 - mse: 0.0054 - val_loss: 0.0033 - val_mse: 0.0033\n",
      "Epoch 63/190\n",
      "167/167 [==============================] - 2s 10ms/step - loss: 0.0051 - mse: 0.0051 - val_loss: 0.0034 - val_mse: 0.0034\n",
      "Epoch 64/190\n",
      "167/167 [==============================] - 2s 11ms/step - loss: 0.0052 - mse: 0.0052 - val_loss: 0.0034 - val_mse: 0.0034\n",
      "Epoch 65/190\n",
      "167/167 [==============================] - 2s 10ms/step - loss: 0.0052 - mse: 0.0052 - val_loss: 0.0034 - val_mse: 0.0034\n",
      "Epoch 66/190\n",
      "167/167 [==============================] - 2s 11ms/step - loss: 0.0051 - mse: 0.0051 - val_loss: 0.0038 - val_mse: 0.0038\n",
      "Epoch 67/190\n",
      "167/167 [==============================] - 2s 10ms/step - loss: 0.0050 - mse: 0.0050 - val_loss: 0.0033 - val_mse: 0.0033\n",
      "Epoch 68/190\n",
      "167/167 [==============================] - 2s 10ms/step - loss: 0.0053 - mse: 0.0053 - val_loss: 0.0036 - val_mse: 0.0036\n",
      "Epoch 69/190\n",
      "167/167 [==============================] - 2s 11ms/step - loss: 0.0052 - mse: 0.0052 - val_loss: 0.0036 - val_mse: 0.0036\n",
      "Epoch 70/190\n",
      "167/167 [==============================] - 2s 10ms/step - loss: 0.0053 - mse: 0.0053 - val_loss: 0.0036 - val_mse: 0.0036\n",
      "Epoch 71/190\n",
      "167/167 [==============================] - 2s 10ms/step - loss: 0.0052 - mse: 0.0052 - val_loss: 0.0034 - val_mse: 0.0034\n",
      "Epoch 72/190\n",
      "167/167 [==============================] - 2s 10ms/step - loss: 0.0052 - mse: 0.0052 - val_loss: 0.0034 - val_mse: 0.0034\n",
      "Epoch 73/190\n",
      "167/167 [==============================] - 2s 10ms/step - loss: 0.0055 - mse: 0.0055 - val_loss: 0.0036 - val_mse: 0.0036\n",
      "Epoch 74/190\n",
      "167/167 [==============================] - 2s 10ms/step - loss: 0.0053 - mse: 0.0053 - val_loss: 0.0037 - val_mse: 0.0037\n",
      "Epoch 75/190\n",
      "167/167 [==============================] - 2s 10ms/step - loss: 0.0053 - mse: 0.0053 - val_loss: 0.0039 - val_mse: 0.0039\n",
      "Epoch 76/190\n",
      "167/167 [==============================] - 2s 11ms/step - loss: 0.0050 - mse: 0.0050 - val_loss: 0.0033 - val_mse: 0.0033\n",
      "Epoch 77/190\n",
      "167/167 [==============================] - 2s 10ms/step - loss: 0.0051 - mse: 0.0051 - val_loss: 0.0033 - val_mse: 0.0033\n",
      "Epoch 78/190\n",
      "167/167 [==============================] - 2s 10ms/step - loss: 0.0051 - mse: 0.0051 - val_loss: 0.0033 - val_mse: 0.0033\n",
      "Epoch 79/190\n",
      "167/167 [==============================] - 2s 11ms/step - loss: 0.0051 - mse: 0.0051 - val_loss: 0.0034 - val_mse: 0.0034\n",
      "Epoch 80/190\n",
      "167/167 [==============================] - 2s 10ms/step - loss: 0.0056 - mse: 0.0056 - val_loss: 0.0034 - val_mse: 0.0034\n",
      "Epoch 81/190\n",
      "167/167 [==============================] - 2s 11ms/step - loss: 0.0051 - mse: 0.0051 - val_loss: 0.0033 - val_mse: 0.0033\n",
      "Epoch 82/190\n",
      "167/167 [==============================] - 2s 10ms/step - loss: 0.0050 - mse: 0.0050 - val_loss: 0.0033 - val_mse: 0.0033\n",
      "Epoch 83/190\n",
      "167/167 [==============================] - 2s 11ms/step - loss: 0.0054 - mse: 0.0054 - val_loss: 0.0034 - val_mse: 0.0034\n",
      "Epoch 84/190\n",
      "167/167 [==============================] - 2s 11ms/step - loss: 0.0049 - mse: 0.0049 - val_loss: 0.0033 - val_mse: 0.0033\n",
      "Epoch 85/190\n",
      "167/167 [==============================] - 2s 10ms/step - loss: 0.0050 - mse: 0.0050 - val_loss: 0.0040 - val_mse: 0.0040\n",
      "Epoch 86/190\n",
      "167/167 [==============================] - 2s 12ms/step - loss: 0.0049 - mse: 0.0049 - val_loss: 0.0033 - val_mse: 0.0033\n",
      "Epoch 87/190\n",
      "167/167 [==============================] - 2s 14ms/step - loss: 0.0048 - mse: 0.0048 - val_loss: 0.0034 - val_mse: 0.0034\n",
      "Epoch 88/190\n",
      "167/167 [==============================] - 2s 12ms/step - loss: 0.0049 - mse: 0.0049 - val_loss: 0.0034 - val_mse: 0.0034\n",
      "Epoch 89/190\n",
      "167/167 [==============================] - 2s 13ms/step - loss: 0.0050 - mse: 0.0050 - val_loss: 0.0035 - val_mse: 0.0035\n",
      "Epoch 90/190\n",
      "164/167 [============================>.] - ETA: 0s - loss: 0.0050 - mse: 0.0050"
     ]
    },
    {
     "name": "stderr",
     "output_type": "stream",
     "text": [
      "WARNING:absl:Found untraced functions such as _update_step_xla while saving (showing 1 of 1). These functions will not be directly callable after loading.\n"
     ]
    },
    {
     "name": "stdout",
     "output_type": "stream",
     "text": [
      "INFO:tensorflow:Assets written to: C:/Users/WickyLee/flask_intro/Heart_disease_prediction/models\\model-090.model\\assets\n"
     ]
    },
    {
     "name": "stderr",
     "output_type": "stream",
     "text": [
      "INFO:tensorflow:Assets written to: C:/Users/WickyLee/flask_intro/Heart_disease_prediction/models\\model-090.model\\assets\n"
     ]
    },
    {
     "name": "stdout",
     "output_type": "stream",
     "text": [
      "167/167 [==============================] - 7s 43ms/step - loss: 0.0050 - mse: 0.0050 - val_loss: 0.0032 - val_mse: 0.0032\n",
      "Epoch 91/190\n",
      "167/167 [==============================] - 2s 12ms/step - loss: 0.0051 - mse: 0.0051 - val_loss: 0.0034 - val_mse: 0.0034\n",
      "Epoch 92/190\n",
      "167/167 [==============================] - 2s 10ms/step - loss: 0.0050 - mse: 0.0050 - val_loss: 0.0032 - val_mse: 0.0032\n",
      "Epoch 93/190\n",
      "167/167 [==============================] - 2s 10ms/step - loss: 0.0050 - mse: 0.0050 - val_loss: 0.0034 - val_mse: 0.0034\n",
      "Epoch 94/190\n",
      "167/167 [==============================] - 2s 10ms/step - loss: 0.0049 - mse: 0.0049 - val_loss: 0.0033 - val_mse: 0.0033\n",
      "Epoch 95/190\n",
      "167/167 [==============================] - 2s 11ms/step - loss: 0.0052 - mse: 0.0052 - val_loss: 0.0035 - val_mse: 0.0035\n",
      "Epoch 96/190\n",
      "167/167 [==============================] - 2s 15ms/step - loss: 0.0051 - mse: 0.0051 - val_loss: 0.0033 - val_mse: 0.0033\n",
      "Epoch 97/190\n",
      "165/167 [============================>.] - ETA: 0s - loss: 0.0050 - mse: 0.0050"
     ]
    },
    {
     "name": "stderr",
     "output_type": "stream",
     "text": [
      "WARNING:absl:Found untraced functions such as _update_step_xla while saving (showing 1 of 1). These functions will not be directly callable after loading.\n"
     ]
    },
    {
     "name": "stdout",
     "output_type": "stream",
     "text": [
      "INFO:tensorflow:Assets written to: C:/Users/WickyLee/flask_intro/Heart_disease_prediction/models\\model-097.model\\assets\n"
     ]
    },
    {
     "name": "stderr",
     "output_type": "stream",
     "text": [
      "INFO:tensorflow:Assets written to: C:/Users/WickyLee/flask_intro/Heart_disease_prediction/models\\model-097.model\\assets\n"
     ]
    },
    {
     "name": "stdout",
     "output_type": "stream",
     "text": [
      "167/167 [==============================] - 7s 43ms/step - loss: 0.0050 - mse: 0.0050 - val_loss: 0.0031 - val_mse: 0.0031\n",
      "Epoch 98/190\n",
      "167/167 [==============================] - 2s 12ms/step - loss: 0.0047 - mse: 0.0047 - val_loss: 0.0035 - val_mse: 0.0035\n",
      "Epoch 99/190\n",
      "167/167 [==============================] - 2s 11ms/step - loss: 0.0049 - mse: 0.0049 - val_loss: 0.0031 - val_mse: 0.0031\n",
      "Epoch 100/190\n",
      "167/167 [==============================] - 2s 10ms/step - loss: 0.0049 - mse: 0.0049 - val_loss: 0.0033 - val_mse: 0.0033\n",
      "Epoch 101/190\n",
      "167/167 [==============================] - 2s 13ms/step - loss: 0.0048 - mse: 0.0048 - val_loss: 0.0032 - val_mse: 0.0032\n",
      "Epoch 102/190\n",
      "167/167 [==============================] - 2s 14ms/step - loss: 0.0047 - mse: 0.0047 - val_loss: 0.0033 - val_mse: 0.0033\n",
      "Epoch 103/190\n",
      "167/167 [==============================] - 2s 13ms/step - loss: 0.0048 - mse: 0.0048 - val_loss: 0.0036 - val_mse: 0.0036\n",
      "Epoch 104/190\n",
      "167/167 [==============================] - 2s 13ms/step - loss: 0.0048 - mse: 0.0048 - val_loss: 0.0035 - val_mse: 0.0035\n",
      "Epoch 105/190\n",
      "167/167 [==============================] - 2s 12ms/step - loss: 0.0048 - mse: 0.0048 - val_loss: 0.0033 - val_mse: 0.0033\n",
      "Epoch 106/190\n",
      "167/167 [==============================] - 2s 11ms/step - loss: 0.0047 - mse: 0.0047 - val_loss: 0.0033 - val_mse: 0.0033\n",
      "Epoch 107/190\n",
      "167/167 [==============================] - 2s 13ms/step - loss: 0.0048 - mse: 0.0048 - val_loss: 0.0034 - val_mse: 0.0034\n",
      "Epoch 108/190\n",
      "166/167 [============================>.] - ETA: 0s - loss: 0.0049 - mse: 0.0049"
     ]
    },
    {
     "name": "stderr",
     "output_type": "stream",
     "text": [
      "WARNING:absl:Found untraced functions such as _update_step_xla while saving (showing 1 of 1). These functions will not be directly callable after loading.\n"
     ]
    },
    {
     "name": "stdout",
     "output_type": "stream",
     "text": [
      "INFO:tensorflow:Assets written to: C:/Users/WickyLee/flask_intro/Heart_disease_prediction/models\\model-108.model\\assets\n"
     ]
    },
    {
     "name": "stderr",
     "output_type": "stream",
     "text": [
      "INFO:tensorflow:Assets written to: C:/Users/WickyLee/flask_intro/Heart_disease_prediction/models\\model-108.model\\assets\n"
     ]
    },
    {
     "name": "stdout",
     "output_type": "stream",
     "text": [
      "167/167 [==============================] - 6s 39ms/step - loss: 0.0049 - mse: 0.0049 - val_loss: 0.0031 - val_mse: 0.0031\n",
      "Epoch 109/190\n",
      "167/167 [==============================] - 3s 21ms/step - loss: 0.0050 - mse: 0.0050 - val_loss: 0.0033 - val_mse: 0.0033\n",
      "Epoch 110/190\n",
      "167/167 [==============================] - 2s 13ms/step - loss: 0.0048 - mse: 0.0048 - val_loss: 0.0038 - val_mse: 0.0038\n",
      "Epoch 111/190\n",
      "167/167 [==============================] - 2s 15ms/step - loss: 0.0050 - mse: 0.0050 - val_loss: 0.0032 - val_mse: 0.0032\n",
      "Epoch 112/190\n",
      "167/167 [==============================] - 2s 12ms/step - loss: 0.0048 - mse: 0.0048 - val_loss: 0.0033 - val_mse: 0.0033\n",
      "Epoch 113/190\n",
      "167/167 [==============================] - 2s 12ms/step - loss: 0.0049 - mse: 0.0049 - val_loss: 0.0035 - val_mse: 0.0035\n",
      "Epoch 114/190\n",
      "167/167 [==============================] - 2s 13ms/step - loss: 0.0048 - mse: 0.0048 - val_loss: 0.0033 - val_mse: 0.0033\n",
      "Epoch 115/190\n",
      "167/167 [==============================] - 2s 13ms/step - loss: 0.0049 - mse: 0.0049 - val_loss: 0.0032 - val_mse: 0.0032\n",
      "Epoch 116/190\n",
      "167/167 [==============================] - 2s 10ms/step - loss: 0.0049 - mse: 0.0049 - val_loss: 0.0033 - val_mse: 0.0033\n",
      "Epoch 117/190\n",
      "167/167 [==============================] - 2s 12ms/step - loss: 0.0049 - mse: 0.0049 - val_loss: 0.0033 - val_mse: 0.0033\n",
      "Epoch 118/190\n",
      "167/167 [==============================] - 2s 11ms/step - loss: 0.0049 - mse: 0.0049 - val_loss: 0.0034 - val_mse: 0.0034\n",
      "Epoch 119/190\n",
      "167/167 [==============================] - 2s 11ms/step - loss: 0.0049 - mse: 0.0049 - val_loss: 0.0033 - val_mse: 0.0033\n",
      "Epoch 120/190\n",
      "167/167 [==============================] - 2s 11ms/step - loss: 0.0051 - mse: 0.0051 - val_loss: 0.0035 - val_mse: 0.0035\n",
      "Epoch 121/190\n",
      "167/167 [==============================] - 2s 11ms/step - loss: 0.0049 - mse: 0.0049 - val_loss: 0.0034 - val_mse: 0.0034\n",
      "Epoch 122/190\n",
      "167/167 [==============================] - 2s 11ms/step - loss: 0.0050 - mse: 0.0050 - val_loss: 0.0033 - val_mse: 0.0033\n",
      "Epoch 123/190\n",
      "167/167 [==============================] - 3s 16ms/step - loss: 0.0050 - mse: 0.0050 - val_loss: 0.0035 - val_mse: 0.0035\n",
      "Epoch 124/190\n",
      "167/167 [==============================] - 3s 15ms/step - loss: 0.0052 - mse: 0.0052 - val_loss: 0.0032 - val_mse: 0.0032\n",
      "Epoch 125/190\n",
      "167/167 [==============================] - 2s 11ms/step - loss: 0.0049 - mse: 0.0049 - val_loss: 0.0035 - val_mse: 0.0035\n",
      "Epoch 126/190\n",
      "167/167 [==============================] - 2s 12ms/step - loss: 0.0050 - mse: 0.0050 - val_loss: 0.0031 - val_mse: 0.0031\n",
      "Epoch 127/190\n",
      "167/167 [==============================] - 2s 11ms/step - loss: 0.0048 - mse: 0.0048 - val_loss: 0.0031 - val_mse: 0.0031\n",
      "Epoch 128/190\n",
      "167/167 [==============================] - 2s 12ms/step - loss: 0.0047 - mse: 0.0047 - val_loss: 0.0032 - val_mse: 0.0032\n",
      "Epoch 129/190\n",
      "167/167 [==============================] - 2s 11ms/step - loss: 0.0051 - mse: 0.0051 - val_loss: 0.0032 - val_mse: 0.0032\n",
      "Epoch 130/190\n",
      "167/167 [==============================] - 3s 16ms/step - loss: 0.0048 - mse: 0.0048 - val_loss: 0.0032 - val_mse: 0.0032\n",
      "Epoch 131/190\n",
      "167/167 [==============================] - 2s 12ms/step - loss: 0.0047 - mse: 0.0047 - val_loss: 0.0034 - val_mse: 0.0034\n",
      "Epoch 132/190\n",
      "167/167 [==============================] - 2s 12ms/step - loss: 0.0048 - mse: 0.0048 - val_loss: 0.0032 - val_mse: 0.0032\n",
      "Epoch 133/190\n",
      "167/167 [==============================] - 2s 12ms/step - loss: 0.0048 - mse: 0.0048 - val_loss: 0.0033 - val_mse: 0.0033\n",
      "Epoch 134/190\n",
      "167/167 [==============================] - 3s 16ms/step - loss: 0.0049 - mse: 0.0049 - val_loss: 0.0033 - val_mse: 0.0033\n",
      "Epoch 135/190\n",
      "167/167 [==============================] - 2s 14ms/step - loss: 0.0048 - mse: 0.0048 - val_loss: 0.0032 - val_mse: 0.0032\n",
      "Epoch 136/190\n",
      "167/167 [==============================] - 2s 13ms/step - loss: 0.0047 - mse: 0.0047 - val_loss: 0.0032 - val_mse: 0.0032\n",
      "Epoch 137/190\n",
      "167/167 [==============================] - 3s 16ms/step - loss: 0.0049 - mse: 0.0049 - val_loss: 0.0032 - val_mse: 0.0032\n",
      "Epoch 138/190\n",
      "167/167 [==============================] - 2s 13ms/step - loss: 0.0050 - mse: 0.0050 - val_loss: 0.0033 - val_mse: 0.0033\n",
      "Epoch 139/190\n",
      "167/167 [==============================] - 2s 13ms/step - loss: 0.0048 - mse: 0.0048 - val_loss: 0.0032 - val_mse: 0.0032\n",
      "Epoch 140/190\n",
      "167/167 [==============================] - 2s 13ms/step - loss: 0.0048 - mse: 0.0048 - val_loss: 0.0032 - val_mse: 0.0032\n",
      "Epoch 141/190\n",
      "167/167 [==============================] - 2s 13ms/step - loss: 0.0050 - mse: 0.0050 - val_loss: 0.0034 - val_mse: 0.0034\n",
      "Epoch 142/190\n",
      "167/167 [==============================] - 3s 15ms/step - loss: 0.0046 - mse: 0.0046 - val_loss: 0.0033 - val_mse: 0.0033\n",
      "Epoch 143/190\n",
      "167/167 [==============================] - 4s 22ms/step - loss: 0.0048 - mse: 0.0048 - val_loss: 0.0032 - val_mse: 0.0032\n",
      "Epoch 144/190\n",
      "167/167 [==============================] - 3s 16ms/step - loss: 0.0048 - mse: 0.0048 - val_loss: 0.0032 - val_mse: 0.0032\n",
      "Epoch 145/190\n",
      "167/167 [==============================] - 2s 13ms/step - loss: 0.0049 - mse: 0.0049 - val_loss: 0.0032 - val_mse: 0.0032\n",
      "Epoch 146/190\n",
      "167/167 [==============================] - 3s 17ms/step - loss: 0.0050 - mse: 0.0050 - val_loss: 0.0033 - val_mse: 0.0033\n",
      "Epoch 147/190\n",
      "167/167 [==============================] - 2s 11ms/step - loss: 0.0051 - mse: 0.0051 - val_loss: 0.0033 - val_mse: 0.0033\n",
      "Epoch 148/190\n",
      "167/167 [==============================] - 3s 18ms/step - loss: 0.0048 - mse: 0.0048 - val_loss: 0.0034 - val_mse: 0.0034\n",
      "Epoch 149/190\n",
      "167/167 [==============================] - 2s 12ms/step - loss: 0.0048 - mse: 0.0048 - val_loss: 0.0039 - val_mse: 0.0039\n",
      "Epoch 150/190\n",
      "167/167 [==============================] - 2s 11ms/step - loss: 0.0051 - mse: 0.0051 - val_loss: 0.0032 - val_mse: 0.0032\n",
      "Epoch 151/190\n",
      "167/167 [==============================] - 2s 11ms/step - loss: 0.0047 - mse: 0.0047 - val_loss: 0.0035 - val_mse: 0.0035\n",
      "Epoch 152/190\n",
      "167/167 [==============================] - 3s 17ms/step - loss: 0.0047 - mse: 0.0047 - val_loss: 0.0031 - val_mse: 0.0031\n",
      "Epoch 153/190\n",
      "167/167 [==============================] - 3s 15ms/step - loss: 0.0050 - mse: 0.0050 - val_loss: 0.0032 - val_mse: 0.0032\n",
      "Epoch 154/190\n",
      "167/167 [==============================] - 2s 12ms/step - loss: 0.0047 - mse: 0.0047 - val_loss: 0.0031 - val_mse: 0.0031\n",
      "Epoch 155/190\n",
      "167/167 [==============================] - 2s 11ms/step - loss: 0.0049 - mse: 0.0049 - val_loss: 0.0031 - val_mse: 0.0031\n",
      "Epoch 156/190\n",
      "167/167 [==============================] - 2s 11ms/step - loss: 0.0047 - mse: 0.0047 - val_loss: 0.0032 - val_mse: 0.0032\n",
      "Epoch 157/190\n",
      "167/167 [==============================] - 2s 12ms/step - loss: 0.0049 - mse: 0.0049 - val_loss: 0.0032 - val_mse: 0.0032\n",
      "Epoch 158/190\n",
      "167/167 [==============================] - 3s 19ms/step - loss: 0.0049 - mse: 0.0049 - val_loss: 0.0033 - val_mse: 0.0033\n",
      "Epoch 159/190\n",
      "167/167 [==============================] - 3s 18ms/step - loss: 0.0048 - mse: 0.0048 - val_loss: 0.0033 - val_mse: 0.0033\n",
      "Epoch 160/190\n",
      "167/167 [==============================] - 3s 16ms/step - loss: 0.0049 - mse: 0.0049 - val_loss: 0.0031 - val_mse: 0.0031\n",
      "Epoch 161/190\n",
      "167/167 [==============================] - 2s 14ms/step - loss: 0.0046 - mse: 0.0046 - val_loss: 0.0032 - val_mse: 0.0032\n",
      "Epoch 162/190\n",
      "167/167 [==============================] - 3s 17ms/step - loss: 0.0047 - mse: 0.0047 - val_loss: 0.0034 - val_mse: 0.0034\n",
      "Epoch 163/190\n",
      "167/167 [==============================] - 3s 16ms/step - loss: 0.0049 - mse: 0.0049 - val_loss: 0.0031 - val_mse: 0.0031\n",
      "Epoch 164/190\n",
      "167/167 [==============================] - 2s 13ms/step - loss: 0.0048 - mse: 0.0048 - val_loss: 0.0033 - val_mse: 0.0033\n",
      "Epoch 165/190\n",
      "167/167 [==============================] - 2s 13ms/step - loss: 0.0048 - mse: 0.0048 - val_loss: 0.0033 - val_mse: 0.0033\n",
      "Epoch 166/190\n",
      "167/167 [==============================] - 2s 13ms/step - loss: 0.0049 - mse: 0.0049 - val_loss: 0.0036 - val_mse: 0.0036\n",
      "Epoch 167/190\n",
      "167/167 [==============================] - 3s 16ms/step - loss: 0.0050 - mse: 0.0050 - val_loss: 0.0032 - val_mse: 0.0032\n",
      "Epoch 168/190\n"
     ]
    },
    {
     "name": "stdout",
     "output_type": "stream",
     "text": [
      "167/167 [==============================] - 4s 24ms/step - loss: 0.0047 - mse: 0.0047 - val_loss: 0.0033 - val_mse: 0.0033\n",
      "Epoch 169/190\n",
      "167/167 [==============================] - 3s 18ms/step - loss: 0.0047 - mse: 0.0047 - val_loss: 0.0031 - val_mse: 0.0031\n",
      "Epoch 170/190\n",
      "167/167 [==============================] - 4s 21ms/step - loss: 0.0046 - mse: 0.0046 - val_loss: 0.0033 - val_mse: 0.0033\n",
      "Epoch 171/190\n",
      "167/167 [==============================] - 2s 12ms/step - loss: 0.0049 - mse: 0.0049 - val_loss: 0.0033 - val_mse: 0.0033\n",
      "Epoch 172/190\n",
      "167/167 [==============================] - 2s 11ms/step - loss: 0.0049 - mse: 0.0049 - val_loss: 0.0033 - val_mse: 0.0033\n",
      "Epoch 173/190\n",
      "167/167 [==============================] - 2s 11ms/step - loss: 0.0049 - mse: 0.0049 - val_loss: 0.0031 - val_mse: 0.0031\n",
      "Epoch 174/190\n",
      "165/167 [============================>.] - ETA: 0s - loss: 0.0046 - mse: 0.0046"
     ]
    },
    {
     "name": "stderr",
     "output_type": "stream",
     "text": [
      "WARNING:absl:Found untraced functions such as _update_step_xla while saving (showing 1 of 1). These functions will not be directly callable after loading.\n"
     ]
    },
    {
     "name": "stdout",
     "output_type": "stream",
     "text": [
      "INFO:tensorflow:Assets written to: C:/Users/WickyLee/flask_intro/Heart_disease_prediction/models\\model-174.model\\assets\n"
     ]
    },
    {
     "name": "stderr",
     "output_type": "stream",
     "text": [
      "INFO:tensorflow:Assets written to: C:/Users/WickyLee/flask_intro/Heart_disease_prediction/models\\model-174.model\\assets\n"
     ]
    },
    {
     "name": "stdout",
     "output_type": "stream",
     "text": [
      "167/167 [==============================] - 6s 38ms/step - loss: 0.0046 - mse: 0.0046 - val_loss: 0.0031 - val_mse: 0.0031\n",
      "Epoch 175/190\n",
      "167/167 [==============================] - 3s 19ms/step - loss: 0.0049 - mse: 0.0049 - val_loss: 0.0031 - val_mse: 0.0031\n",
      "Epoch 176/190\n",
      "167/167 [==============================] - 2s 11ms/step - loss: 0.0049 - mse: 0.0049 - val_loss: 0.0032 - val_mse: 0.0032\n",
      "Epoch 177/190\n",
      "167/167 [==============================] - 2s 11ms/step - loss: 0.0047 - mse: 0.0047 - val_loss: 0.0031 - val_mse: 0.0031\n",
      "Epoch 178/190\n",
      "167/167 [==============================] - 2s 12ms/step - loss: 0.0048 - mse: 0.0048 - val_loss: 0.0033 - val_mse: 0.0033\n",
      "Epoch 179/190\n",
      "167/167 [==============================] - 3s 15ms/step - loss: 0.0048 - mse: 0.0048 - val_loss: 0.0034 - val_mse: 0.0034\n",
      "Epoch 180/190\n",
      "167/167 [==============================] - 2s 12ms/step - loss: 0.0050 - mse: 0.0050 - val_loss: 0.0033 - val_mse: 0.0033\n",
      "Epoch 181/190\n",
      "167/167 [==============================] - 2s 14ms/step - loss: 0.0049 - mse: 0.0049 - val_loss: 0.0034 - val_mse: 0.0034\n",
      "Epoch 182/190\n",
      "167/167 [==============================] - 3s 15ms/step - loss: 0.0049 - mse: 0.0049 - val_loss: 0.0032 - val_mse: 0.0032\n",
      "Epoch 183/190\n",
      "167/167 [==============================] - 3s 19ms/step - loss: 0.0048 - mse: 0.0048 - val_loss: 0.0032 - val_mse: 0.0032\n",
      "Epoch 184/190\n",
      "167/167 [==============================] - 2s 13ms/step - loss: 0.0045 - mse: 0.0045 - val_loss: 0.0032 - val_mse: 0.0032\n",
      "Epoch 185/190\n",
      "167/167 [==============================] - 2s 15ms/step - loss: 0.0047 - mse: 0.0047 - val_loss: 0.0035 - val_mse: 0.0035\n",
      "Epoch 186/190\n",
      "167/167 [==============================] - 2s 14ms/step - loss: 0.0046 - mse: 0.0046 - val_loss: 0.0032 - val_mse: 0.0032\n",
      "Epoch 187/190\n",
      "167/167 [==============================] - 2s 14ms/step - loss: 0.0046 - mse: 0.0046 - val_loss: 0.0032 - val_mse: 0.0032\n",
      "Epoch 188/190\n",
      "167/167 [==============================] - 2s 13ms/step - loss: 0.0049 - mse: 0.0049 - val_loss: 0.0031 - val_mse: 0.0031\n",
      "Epoch 189/190\n",
      "167/167 [==============================] - 2s 14ms/step - loss: 0.0046 - mse: 0.0046 - val_loss: 0.0034 - val_mse: 0.0034\n",
      "Epoch 190/190\n",
      "167/167 [==============================] - 2s 13ms/step - loss: 0.0048 - mse: 0.0048 - val_loss: 0.0033 - val_mse: 0.0033\n"
     ]
    }
   ],
   "source": [
    "from sklearn.model_selection import train_test_split\n",
    "train_data, test_data,  train_target, test_target = train_test_split(data_scaled,target_scaled,test_size=0.2) \n",
    "\n",
    "history = model.fit(train_data, train_target, epochs=190, validation_data=(test_data, test_target), callbacks=[checkpoint])"
   ]
  },
  {
   "cell_type": "code",
   "execution_count": 134,
   "id": "af85a172",
   "metadata": {},
   "outputs": [
    {
     "data": {
      "image/png": "[encoded data removed]",
      "text/plain": [
       "<Figure size 640x480 with 1 Axes>"
      ]
     },
     "metadata": {},
     "output_type": "display_data"
    }
   ],
   "source": [
    "plt.plot(model.history.history['loss'], label='loss')\n",
    "plt.plot(model.history.history['val_loss'], label='val_loss')\n",
    "plt.legend()\n",
    "plt.xlabel('Epochs')\n",
    "plt.ylabel('loss')\n",
    "plt.show()"
   ]
  },
  {
   "cell_type": "markdown",
   "id": "ef76ef2e",
   "metadata": {},
   "source": [
    "# R2 score"
   ]
  },
  {
   "cell_type": "code",
   "execution_count": 135,
   "id": "9a27d8d6",
   "metadata": {},
   "outputs": [
    {
     "name": "stdout",
     "output_type": "stream",
     "text": [
      "42/42 [==============================] - 1s 6ms/step\n",
      "R2 Score:  0.8592318546954872\n"
     ]
    }
   ],
   "source": [
    "from sklearn.metrics import r2_score\n",
    "\n",
    "predicted_results = model.predict(test_data)\n",
    "\n",
    "r2 = r2_score(test_target, predicted_results)\n",
    "print('R2 Score: ',r2)"
   ]
  },
  {
   "cell_type": "code",
   "execution_count": 128,
   "id": "b56fa2db",
   "metadata": {},
   "outputs": [
    {
     "name": "stdout",
     "output_type": "stream",
     "text": [
      "actual:  [[0.01172333 0.52754982 0.010551   0.12895662 0.09495897 0.04806565\n",
      "  0.01289566 0.27198124 0.08089097 0.11606096]]\n",
      "predicted [[0.03677375 0.5043775  0.03181085 0.13047111 0.14369683 0.10899646\n",
      "  0.04232033 0.2705662  0.10798727 0.10350022]]\n"
     ]
    }
   ],
   "source": [
    "print('actual: ', test_target[:10].T)\n",
    "print('predicted', predicted_results[:10].T)"
   ]
  },
  {
   "cell_type": "markdown",
   "id": "df5b28a5",
   "metadata": {},
   "source": [
    "# inverse_transform"
   ]
  },
  {
   "cell_type": "code",
   "execution_count": 129,
   "id": "ba21da62",
   "metadata": {},
   "outputs": [
    {
     "name": "stdout",
     "output_type": "stream",
     "text": [
      "Actual inverse_transform:  [[ 1.1 45.1  1.  11.1  8.2  4.2  1.2 23.3  7.  10. ]]\n",
      "Predicted_inverse_transform:  [[ 3.236801  43.123398   2.8134656 11.229186  12.35734    9.397398\n",
      "   3.709924  23.179296   9.311315   8.928569 ]]\n"
     ]
    }
   ],
   "source": [
    "print('Actual inverse_transform: ',scaler_target.inverse_transform(test_target[:10]).T)\n",
    "print('Predicted_inverse_transform: ',scaler_target.inverse_transform(predicted_results[0:10]).T)"
   ]
  },
  {
   "cell_type": "markdown",
   "id": "a2ec9d91",
   "metadata": {},
   "source": [
    "# getting predictions"
   ]
  },
  {
   "cell_type": "code",
   "execution_count": 130,
   "id": "53bedb20",
   "metadata": {},
   "outputs": [
    {
     "name": "stdout",
     "output_type": "stream",
     "text": [
      "1/1 [==============================] - 0s 188ms/step\n",
      "result:  [[0.01253638]]\n",
      "Predicted:  [[1.1693536]]\n"
     ]
    }
   ],
   "source": [
    "my_test_data = [0,28,3.5,51,0,0,0]\n",
    "my_test_data = scaler_data.transform([my_test_data])\n",
    "\n",
    "result = model.predict(my_test_data)\n",
    "print('result: ',result)\n",
    "\n",
    "predicted_value = scaler_target.inverse_transform(result)\n",
    "\n",
    "print('Predicted: ',predicted_value)"
   ]
  },
  {
   "cell_type": "markdown",
   "id": "0e0a6d7c",
   "metadata": {},
   "source": [
    "# Saving scaler models"
   ]
  },
  {
   "cell_type": "code",
   "execution_count": 137,
   "id": "57f15d82",
   "metadata": {},
   "outputs": [
    {
     "data": {
      "text/plain": [
       "['C:\\\\Users\\\\WickyLee\\\\flask_intro\\\\Heart_disease_prediction\\\\models\\\\scaler_target.sav']"
      ]
     },
     "execution_count": 137,
     "metadata": {},
     "output_type": "execute_result"
    }
   ],
   "source": [
    "import joblib\n",
    "joblib.dump(scaler_data, r'C:\\Users\\WickyLee\\flask_intro\\Heart_disease_prediction\\models\\scaler_data.sav')\n",
    "joblib.dump(scaler_target, r'C:\\Users\\WickyLee\\flask_intro\\Heart_disease_prediction\\models\\scaler_target.sav')"
   ]
  }
 ],
 "metadata": {
  "kernelspec": {
   "display_name": "Python 3 (ipykernel)",
   "language": "python",
   "name": "python3"
  },
  "language_info": {
   "codemirror_mode": {
    "name": "ipython",
    "version": 3
   },
   "file_extension": ".py",
   "mimetype": "text/x-python",
   "name": "python",
   "nbconvert_exporter": "python",
   "pygments_lexer": "ipython3",
   "version": "3.11.5"
  }
 },
 "nbformat": 4,
 "nbformat_minor": 5
}
